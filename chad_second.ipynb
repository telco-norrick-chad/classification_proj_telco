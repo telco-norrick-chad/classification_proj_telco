{
 "cells": [
  {
   "cell_type": "code",
   "execution_count": null,
   "metadata": {},
   "outputs": [],
   "source": []
  },
  {
   "cell_type": "code",
   "execution_count": 1,
   "metadata": {},
   "outputs": [],
   "source": [
    "from sklearn.linear_model import LogisticRegression\n",
    "from sklearn.metrics import classification_report\n",
    "from sklearn.metrics import confusion_matrix\n",
    "from sklearn.preprocessing import MinMaxScaler\n",
    "from sklearn.model_selection import train_test_split\n",
    "\n",
    "# acquire/wrangling\n",
    "import numpy as np\n",
    "import pandas as pd\n",
    "\n",
    "# Exploring\n",
    "import scipy.stats as stats\n",
    "\n",
    "# Visualizing\n",
    "%matplotlib inline\n",
    "import matplotlib.pyplot as plt\n",
    "import seaborn as sns\n",
    "plt.style.use('classic')\n",
    "\n",
    "# Modeling\n",
    "import statsmodels.api as sm\n",
    "from scipy.stats import pearsonr\n",
    "from sklearn.metrics import mean_squared_error, r2_score\n",
    "\n",
    "# # ignore warnings\n",
    "# import warnings\n",
    "# warnings.filterwarnings('ignore')"
   ]
  },
  {
   "cell_type": "code",
   "execution_count": 2,
   "metadata": {},
   "outputs": [],
   "source": [
    "import acquire as acq\n",
    "import prepare as prep"
   ]
  },
  {
   "cell_type": "code",
   "execution_count": 3,
   "metadata": {},
   "outputs": [],
   "source": [
    "total_df = prep.prep_telco(acq.get_telco_data())"
   ]
  },
  {
   "cell_type": "code",
   "execution_count": 4,
   "metadata": {},
   "outputs": [
    {
     "name": "stdout",
     "output_type": "stream",
     "text": [
      "HEAD:\n",
      "   payment_type_id  internet_service_type_id  contract_type_id customer_id  \\\n",
      "0                2                         1                 1  0003-MKNFE   \n",
      "1                4                         1                 1  0013-MHZWF   \n",
      "2                1                         1                 1  0015-UOCOJ   \n",
      "3                1                         1                 1  0023-HGHWL   \n",
      "4                3                         1                 1  0032-PGELS   \n",
      "\n",
      "   gender  senior_citizen partner dependents  tenure phone_service  \\\n",
      "0    Male               0      No         No       9           Yes   \n",
      "1  Female               0      No        Yes       9           Yes   \n",
      "2  Female               1      No         No       7           Yes   \n",
      "3    Male               1      No         No       1            No   \n",
      "4  Female               0     Yes        Yes       1            No   \n",
      "\n",
      "       ...       churn_encode phone_id movies_encode tv_encode  \\\n",
      "0      ...                  0        2             1         0   \n",
      "1      ...                  0        1             1         1   \n",
      "2      ...                  0        1             0         0   \n",
      "3      ...                  1        0             0         0   \n",
      "4      ...                  1        0             0         0   \n",
      "\n",
      "  streaming_services online_security_encode online_backup_encode  \\\n",
      "0                  1                      0                    0   \n",
      "1                  2                      0                    0   \n",
      "2                  0                      1                    0   \n",
      "3                  0                      0                    0   \n",
      "4                  0                      1                    0   \n",
      "\n",
      "  online_security_backup  household_type_id  gender_encode  \n",
      "0                      0                  0              1  \n",
      "1                      0                  1              0  \n",
      "2                      1                  0              0  \n",
      "3                      0                  0              1  \n",
      "4                      1                  3              0  \n",
      "\n",
      "[5 rows x 34 columns]\n",
      "\n",
      " \n",
      " TAIL:\n",
      "      payment_type_id  internet_service_type_id  contract_type_id customer_id  \\\n",
      "7038                4                         0                 3  9950-MTGYX   \n",
      "7039                2                         0                 3  9953-ZMKSM   \n",
      "7040                4                         0                 3  9964-WBQDJ   \n",
      "7041                3                         0                 3  9972-EWRJS   \n",
      "7042                4                         0                 3  9975-GPKZU   \n",
      "\n",
      "      gender  senior_citizen partner dependents  tenure phone_service  \\\n",
      "7038    Male               0     Yes        Yes      28           Yes   \n",
      "7039    Male               0      No         No      63           Yes   \n",
      "7040  Female               0     Yes         No      71           Yes   \n",
      "7041  Female               0     Yes        Yes      67           Yes   \n",
      "7042    Male               0     Yes        Yes      46           Yes   \n",
      "\n",
      "          ...       churn_encode phone_id movies_encode tv_encode  \\\n",
      "7038      ...                  0        1             0         0   \n",
      "7039      ...                  0        2             0         0   \n",
      "7040      ...                  0        2             0         0   \n",
      "7041      ...                  0        1             0         0   \n",
      "7042      ...                  0        1             0         0   \n",
      "\n",
      "     streaming_services online_security_encode online_backup_encode  \\\n",
      "7038                  0                      0                    0   \n",
      "7039                  0                      0                    0   \n",
      "7040                  0                      0                    0   \n",
      "7041                  0                      0                    0   \n",
      "7042                  0                      0                    0   \n",
      "\n",
      "     online_security_backup  household_type_id  gender_encode  \n",
      "7038                      0                  3              1  \n",
      "7039                      0                  0              1  \n",
      "7040                      0                  2              0  \n",
      "7041                      0                  3              0  \n",
      "7042                      0                  3              1  \n",
      "\n",
      "[5 rows x 34 columns]\n",
      "\n",
      " \n",
      " SHAPE:\n",
      "(7032, 34)\n",
      "\n",
      " \n",
      " DESCRIBE:\n",
      "       payment_type_id  internet_service_type_id  contract_type_id  \\\n",
      "count      7032.000000               7032.000000       7032.000000   \n",
      "mean          2.315557                  1.224118          1.688567   \n",
      "std           1.149523                  0.778643          0.832934   \n",
      "min           1.000000                  0.000000          1.000000   \n",
      "25%           1.000000                  1.000000          1.000000   \n",
      "50%           2.000000                  1.000000          1.000000   \n",
      "75%           3.000000                  2.000000          2.000000   \n",
      "max           4.000000                  2.000000          3.000000   \n",
      "\n",
      "       senior_citizen       tenure  monthly_charges  total_charges  \\\n",
      "count     7032.000000  7032.000000      7032.000000    7032.000000   \n",
      "mean         0.162400    32.421786        64.798208    2283.300441   \n",
      "std          0.368844    24.545260        30.085974    2266.771362   \n",
      "min          0.000000     1.000000        18.250000      18.800000   \n",
      "25%          0.000000     9.000000        35.587500     401.450000   \n",
      "50%          0.000000    29.000000        70.350000    1397.475000   \n",
      "75%          0.000000    55.000000        89.862500    3794.737500   \n",
      "max          1.000000    72.000000       118.750000    8684.800000   \n",
      "\n",
      "       churn_encode     phone_id  movies_encode    tv_encode  \\\n",
      "count   7032.000000  7032.000000    7032.000000  7032.000000   \n",
      "mean       0.265785     1.325228       0.388367     0.384386   \n",
      "std        0.441782     0.642585       0.487414     0.486484   \n",
      "min        0.000000     0.000000       0.000000     0.000000   \n",
      "25%        0.000000     1.000000       0.000000     0.000000   \n",
      "50%        0.000000     1.000000       0.000000     0.000000   \n",
      "75%        1.000000     2.000000       1.000000     1.000000   \n",
      "max        1.000000     2.000000       1.000000     1.000000   \n",
      "\n",
      "       streaming_services  online_security_encode  online_backup_encode  \\\n",
      "count         7032.000000             7032.000000           7032.000000   \n",
      "mean             0.772753                0.286547              0.344852   \n",
      "std              0.852753                0.452180              0.475354   \n",
      "min              0.000000                0.000000              0.000000   \n",
      "25%              0.000000                0.000000              0.000000   \n",
      "50%              0.000000                0.000000              0.000000   \n",
      "75%              2.000000                1.000000              1.000000   \n",
      "max              2.000000                1.000000              1.000000   \n",
      "\n",
      "       online_security_backup  household_type_id  gender_encode  \n",
      "count             7032.000000        7032.000000    7032.000000  \n",
      "mean                 0.631399           1.263510       0.504693  \n",
      "std                  0.743108           1.273602       0.500014  \n",
      "min                  0.000000           0.000000       0.000000  \n",
      "25%                  0.000000           0.000000       0.000000  \n",
      "50%                  0.000000           1.000000       1.000000  \n",
      "75%                  1.000000           2.000000       1.000000  \n",
      "max                  2.000000           3.000000       1.000000  \n",
      "\n",
      " \n",
      " INFO\n",
      "<class 'pandas.core.frame.DataFrame'>\n",
      "Int64Index: 7032 entries, 0 to 7042\n",
      "Data columns (total 34 columns):\n",
      "payment_type_id             7032 non-null int64\n",
      "internet_service_type_id    7032 non-null int64\n",
      "contract_type_id            7032 non-null int64\n",
      "customer_id                 7032 non-null object\n",
      "gender                      7032 non-null object\n",
      "senior_citizen              7032 non-null int64\n",
      "partner                     7032 non-null object\n",
      "dependents                  7032 non-null object\n",
      "tenure                      7032 non-null int64\n",
      "phone_service               7032 non-null object\n",
      "multiple_lines              7032 non-null object\n",
      "online_security             7032 non-null object\n",
      "online_backup               7032 non-null object\n",
      "device_protection           7032 non-null object\n",
      "tech_support                7032 non-null object\n",
      "streaming_tv                7032 non-null object\n",
      "streaming_movies            7032 non-null object\n",
      "paperless_billing           7032 non-null object\n",
      "monthly_charges             7032 non-null float64\n",
      "total_charges               7032 non-null float64\n",
      "churn                       7032 non-null object\n",
      "contract_type               7032 non-null object\n",
      "internet_service_type       7032 non-null object\n",
      "payment_type                7032 non-null object\n",
      "churn_encode                7032 non-null int64\n",
      "phone_id                    7032 non-null int64\n",
      "movies_encode               7032 non-null int64\n",
      "tv_encode                   7032 non-null int64\n",
      "streaming_services          7032 non-null int64\n",
      "online_security_encode      7032 non-null int64\n",
      "online_backup_encode        7032 non-null int64\n",
      "online_security_backup      7032 non-null int64\n",
      "household_type_id           7032 non-null int64\n",
      "gender_encode               7032 non-null int64\n",
      "dtypes: float64(2), int64(15), object(17)\n",
      "memory usage: 1.9+ MB\n",
      "None\n",
      "\n",
      " \n",
      " Missing Values:\n",
      "payment_type_id             0\n",
      "internet_service_type_id    0\n",
      "contract_type_id            0\n",
      "customer_id                 0\n",
      "gender                      0\n",
      "senior_citizen              0\n",
      "partner                     0\n",
      "dependents                  0\n",
      "tenure                      0\n",
      "phone_service               0\n",
      "multiple_lines              0\n",
      "online_security             0\n",
      "online_backup               0\n",
      "device_protection           0\n",
      "tech_support                0\n",
      "streaming_tv                0\n",
      "streaming_movies            0\n",
      "paperless_billing           0\n",
      "monthly_charges             0\n",
      "total_charges               0\n",
      "churn                       0\n",
      "contract_type               0\n",
      "internet_service_type       0\n",
      "payment_type                0\n",
      "churn_encode                0\n",
      "phone_id                    0\n",
      "movies_encode               0\n",
      "tv_encode                   0\n",
      "streaming_services          0\n",
      "online_security_encode      0\n",
      "online_backup_encode        0\n",
      "online_security_backup      0\n",
      "household_type_id           0\n",
      "gender_encode               0\n",
      "dtype: int64\n"
     ]
    }
   ],
   "source": [
    "look = acq.peekatdata(total_df)\n",
    "look"
   ]
  },
  {
   "cell_type": "code",
   "execution_count": 5,
   "metadata": {},
   "outputs": [],
   "source": [
    "#acq.peekatdata(df)\n",
    "#df.head()"
   ]
  },
  {
   "cell_type": "code",
   "execution_count": 6,
   "metadata": {},
   "outputs": [
    {
     "data": {
      "text/plain": [
       "(7032, 34)"
      ]
     },
     "execution_count": 6,
     "metadata": {},
     "output_type": "execute_result"
    }
   ],
   "source": [
    "total_df.shape"
   ]
  },
  {
   "cell_type": "code",
   "execution_count": 7,
   "metadata": {},
   "outputs": [
    {
     "data": {
      "text/plain": [
       "Index(['payment_type_id', 'internet_service_type_id', 'contract_type_id',\n",
       "       'customer_id', 'gender', 'senior_citizen', 'partner', 'dependents',\n",
       "       'tenure', 'phone_service', 'multiple_lines', 'online_security',\n",
       "       'online_backup', 'device_protection', 'tech_support', 'streaming_tv',\n",
       "       'streaming_movies', 'paperless_billing', 'monthly_charges',\n",
       "       'total_charges', 'churn', 'contract_type', 'internet_service_type',\n",
       "       'payment_type', 'churn_encode', 'phone_id', 'movies_encode',\n",
       "       'tv_encode', 'streaming_services', 'online_security_encode',\n",
       "       'online_backup_encode', 'online_security_backup', 'household_type_id',\n",
       "       'gender_encode'],\n",
       "      dtype='object')"
      ]
     },
     "execution_count": 7,
     "metadata": {},
     "output_type": "execute_result"
    }
   ],
   "source": [
    "total_df.columns"
   ]
  },
  {
   "cell_type": "code",
   "execution_count": 8,
   "metadata": {},
   "outputs": [],
   "source": [
    "df = total_df"
   ]
  },
  {
   "cell_type": "code",
   "execution_count": 9,
   "metadata": {},
   "outputs": [
    {
     "name": "stdout",
     "output_type": "stream",
     "text": [
      "<class 'pandas.core.frame.DataFrame'>\n",
      "Int64Index: 7032 entries, 0 to 7042\n",
      "Data columns (total 34 columns):\n",
      "payment_type_id             7032 non-null int64\n",
      "internet_service_type_id    7032 non-null int64\n",
      "contract_type_id            7032 non-null int64\n",
      "customer_id                 7032 non-null object\n",
      "gender                      7032 non-null object\n",
      "senior_citizen              7032 non-null int64\n",
      "partner                     7032 non-null object\n",
      "dependents                  7032 non-null object\n",
      "tenure                      7032 non-null int64\n",
      "phone_service               7032 non-null object\n",
      "multiple_lines              7032 non-null object\n",
      "online_security             7032 non-null object\n",
      "online_backup               7032 non-null object\n",
      "device_protection           7032 non-null object\n",
      "tech_support                7032 non-null object\n",
      "streaming_tv                7032 non-null object\n",
      "streaming_movies            7032 non-null object\n",
      "paperless_billing           7032 non-null object\n",
      "monthly_charges             7032 non-null float64\n",
      "total_charges               7032 non-null float64\n",
      "churn                       7032 non-null object\n",
      "contract_type               7032 non-null object\n",
      "internet_service_type       7032 non-null object\n",
      "payment_type                7032 non-null object\n",
      "churn_encode                7032 non-null int64\n",
      "phone_id                    7032 non-null int64\n",
      "movies_encode               7032 non-null int64\n",
      "tv_encode                   7032 non-null int64\n",
      "streaming_services          7032 non-null int64\n",
      "online_security_encode      7032 non-null int64\n",
      "online_backup_encode        7032 non-null int64\n",
      "online_security_backup      7032 non-null int64\n",
      "household_type_id           7032 non-null int64\n",
      "gender_encode               7032 non-null int64\n",
      "dtypes: float64(2), int64(15), object(17)\n",
      "memory usage: 1.9+ MB\n"
     ]
    }
   ],
   "source": [
    "df.info()"
   ]
  },
  {
   "cell_type": "code",
   "execution_count": 17,
   "metadata": {},
   "outputs": [
    {
     "data": {
      "text/html": [
       "<div>\n",
       "<style scoped>\n",
       "    .dataframe tbody tr th:only-of-type {\n",
       "        vertical-align: middle;\n",
       "    }\n",
       "\n",
       "    .dataframe tbody tr th {\n",
       "        vertical-align: top;\n",
       "    }\n",
       "\n",
       "    .dataframe thead th {\n",
       "        text-align: right;\n",
       "    }\n",
       "</style>\n",
       "<table border=\"1\" class=\"dataframe\">\n",
       "  <thead>\n",
       "    <tr style=\"text-align: right;\">\n",
       "      <th></th>\n",
       "      <th>tech_support</th>\n",
       "      <th>paperless_billing</th>\n",
       "    </tr>\n",
       "  </thead>\n",
       "  <tbody>\n",
       "    <tr>\n",
       "      <th>4577</th>\n",
       "      <td>No</td>\n",
       "      <td>No</td>\n",
       "    </tr>\n",
       "    <tr>\n",
       "      <th>1090</th>\n",
       "      <td>No</td>\n",
       "      <td>Yes</td>\n",
       "    </tr>\n",
       "    <tr>\n",
       "      <th>2893</th>\n",
       "      <td>Yes</td>\n",
       "      <td>Yes</td>\n",
       "    </tr>\n",
       "    <tr>\n",
       "      <th>6998</th>\n",
       "      <td>No internet service</td>\n",
       "      <td>No</td>\n",
       "    </tr>\n",
       "    <tr>\n",
       "      <th>4256</th>\n",
       "      <td>No</td>\n",
       "      <td>Yes</td>\n",
       "    </tr>\n",
       "  </tbody>\n",
       "</table>\n",
       "</div>"
      ],
      "text/plain": [
       "             tech_support paperless_billing\n",
       "4577                   No                No\n",
       "1090                   No               Yes\n",
       "2893                  Yes               Yes\n",
       "6998  No internet service                No\n",
       "4256                   No               Yes"
      ]
     },
     "execution_count": 17,
     "metadata": {},
     "output_type": "execute_result"
    }
   ],
   "source": [
    "df[['tech_support', 'paperless_billing']].sample(5)"
   ]
  },
  {
   "cell_type": "code",
   "execution_count": null,
   "metadata": {},
   "outputs": [],
   "source": [
    "df.total_charges.sort_values()"
   ]
  },
  {
   "cell_type": "code",
   "execution_count": 14,
   "metadata": {},
   "outputs": [
    {
     "data": {
      "image/png": "[encoded data removed]",
      "text/plain": [
       "<Figure size 1440x720 with 17 Axes>"
      ]
     },
     "metadata": {
      "needs_background": "light"
     },
     "output_type": "display_data"
    }
   ],
   "source": [
    "plt.figure(figsize=(20,10))\n",
    "for i, col in enumerate(['payment_type_id', 'internet_service_type_id', 'contract_type_id',\n",
    "       'senior_citizen', 'tenure', 'monthly_charges',\n",
    "       'total_charges', 'churn_encode', 'phone_id', 'movies_encode',\n",
    "       'tv_encode', 'streaming_services', 'online_security_encode',\n",
    "       'online_backup_encode', 'online_security_backup', 'household_type_id',\n",
    "       'gender_encode']):\n",
    "    plot_number = i + 1\n",
    "    series = df[col]\n",
    "    plt.subplot(7, 3, plot_number)\n",
    "    plt.title(col)\n",
    "    series.hist(bins=20, density=False, cumulative=False, log=True)"
   ]
  },
  {
   "cell_type": "markdown",
   "metadata": {},
   "source": [
    "## Split into X's, y's and Train/Tests"
   ]
  },
  {
   "cell_type": "code",
   "execution_count": null,
   "metadata": {},
   "outputs": [],
   "source": [
    "X = df[['household_type_id','internet_service_type_id','gender']]\n",
    "y = df[['churn_encode']]\n",
    "\n",
    "X_train, X_test, y_train, y_test = train_test_split(X, y, test_size=.20, random_state = 123)"
   ]
  },
  {
   "cell_type": "markdown",
   "metadata": {},
   "source": [
    "## Logistic Regression fitting"
   ]
  },
  {
   "cell_type": "code",
   "execution_count": null,
   "metadata": {},
   "outputs": [],
   "source": [
    "logit = LogisticRegression()\n",
    "logit.fit(X_train, y_train)\n",
    "y_pred = logit.predict(X_train)\n",
    "y_pred_proba = logit.predict_proba(X_train)"
   ]
  },
  {
   "cell_type": "code",
   "execution_count": null,
   "metadata": {},
   "outputs": [],
   "source": [
    "print('Columns: \\n:', X_train.columns)\n",
    "print('Coefficient: \\n', logit.coef_)\n",
    "print('Intercept: \\n', logit.intercept_)"
   ]
  },
  {
   "cell_type": "code",
   "execution_count": null,
   "metadata": {},
   "outputs": [],
   "source": [
    "y_pred"
   ]
  },
  {
   "cell_type": "markdown",
   "metadata": {},
   "source": [
    "#### Probability of Stay vs Churn "
   ]
  },
  {
   "cell_type": "code",
   "execution_count": null,
   "metadata": {},
   "outputs": [],
   "source": [
    "y_pred_proba"
   ]
  },
  {
   "cell_type": "markdown",
   "metadata": {},
   "source": [
    "#### Accuracy "
   ]
  },
  {
   "cell_type": "code",
   "execution_count": null,
   "metadata": {},
   "outputs": [],
   "source": [
    "(y_train['churn_encode'] == y_pred).sum() / y_train.shape[0]"
   ]
  },
  {
   "cell_type": "code",
   "execution_count": null,
   "metadata": {},
   "outputs": [],
   "source": []
  }
 ],
 "metadata": {
  "kernelspec": {
   "display_name": "Python 3",
   "language": "python",
   "name": "python3"
  },
  "language_info": {
   "codemirror_mode": {
    "name": "ipython",
    "version": 3
   },
   "file_extension": ".py",
   "mimetype": "text/x-python",
   "name": "python",
   "nbconvert_exporter": "python",
   "pygments_lexer": "ipython3",
   "version": "3.7.1"
  }
 },
 "nbformat": 4,
 "nbformat_minor": 2
}
