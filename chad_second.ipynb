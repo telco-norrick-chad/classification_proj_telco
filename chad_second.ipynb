{
 "cells": [
  {
   "cell_type": "code",
   "execution_count": null,
   "metadata": {},
   "outputs": [],
   "source": []
  },
  {
   "cell_type": "code",
   "execution_count": 1,
   "metadata": {},
   "outputs": [],
   "source": [
    "from sklearn.linear_model import LogisticRegression\n",
    "from sklearn.metrics import classification_report\n",
    "from sklearn.metrics import confusion_matrix\n",
    "from sklearn.preprocessing import MinMaxScaler\n",
    "from sklearn.model_selection import train_test_split"
   ]
  },
  {
   "cell_type": "code",
   "execution_count": 2,
   "metadata": {},
   "outputs": [],
   "source": [
    "import acquire as acq\n",
    "import prepare as prep"
   ]
  },
  {
   "cell_type": "code",
   "execution_count": 3,
   "metadata": {},
   "outputs": [],
   "source": [
    "total_df = prep.prep_telco(acq.get_telco_data())"
   ]
  },
  {
   "cell_type": "code",
   "execution_count": 4,
   "metadata": {},
   "outputs": [],
   "source": [
    "#acq.peekatdata(df)\n",
    "#df.head()"
   ]
  },
  {
   "cell_type": "code",
   "execution_count": 8,
   "metadata": {},
   "outputs": [
    {
     "data": {
      "text/plain": [
       "(7032, 34)"
      ]
     },
     "execution_count": 8,
     "metadata": {},
     "output_type": "execute_result"
    }
   ],
   "source": [
    "total_df.shape"
   ]
  },
  {
   "cell_type": "code",
   "execution_count": 9,
   "metadata": {},
   "outputs": [
    {
     "data": {
      "text/plain": [
       "Index(['payment_type_id', 'internet_service_type_id', 'contract_type_id',\n",
       "       'customer_id', 'gender', 'senior_citizen', 'partner', 'dependents',\n",
       "       'tenure', 'phone_service', 'multiple_lines', 'online_security',\n",
       "       'online_backup', 'device_protection', 'tech_support', 'streaming_tv',\n",
       "       'streaming_movies', 'paperless_billing', 'monthly_charges',\n",
       "       'total_charges', 'churn', 'contract_type', 'internet_service_type',\n",
       "       'payment_type', 'churn_encode', 'phone_id', 'movies_encode',\n",
       "       'tv_encode', 'streaming_services', 'online_security_encode',\n",
       "       'online_backup_encode', 'online_security_backup', 'household_type_id',\n",
       "       'gender_encode'],\n",
       "      dtype='object')"
      ]
     },
     "execution_count": 9,
     "metadata": {},
     "output_type": "execute_result"
    }
   ],
   "source": [
    "total_df.columns"
   ]
  },
  {
   "cell_type": "code",
   "execution_count": 6,
   "metadata": {},
   "outputs": [],
   "source": [
    "df = total_df"
   ]
  },
  {
   "cell_type": "code",
   "execution_count": 7,
   "metadata": {},
   "outputs": [
    {
     "data": {
      "text/plain": [
       "761       100.2\n",
       "3103     100.25\n",
       "6574     100.35\n",
       "963       100.4\n",
       "3978      100.8\n",
       "5775      100.9\n",
       "4169     1001.2\n",
       "6298     1001.5\n",
       "829     1003.05\n",
       "6932    1004.35\n",
       "6363     1004.5\n",
       "851     1004.75\n",
       "6443     1005.7\n",
       "6633     1006.9\n",
       "6182     1007.8\n",
       "6330     1007.9\n",
       "3534    1008.55\n",
       "3558     1008.7\n",
       "6875     1008.7\n",
       "350     1009.25\n",
       "422       101.1\n",
       "3608     101.45\n",
       "1064     101.65\n",
       "5979      101.9\n",
       "1505       1010\n",
       "253     1011.05\n",
       "1074     1011.5\n",
       "2623     1011.8\n",
       "6375     1012.4\n",
       "6392    1013.05\n",
       "         ...   \n",
       "6685     982.95\n",
       "407      985.05\n",
       "4005     987.95\n",
       "6975     987.95\n",
       "6390     989.05\n",
       "6125     989.05\n",
       "1340     989.45\n",
       "6132      99.45\n",
       "6310       99.6\n",
       "903       99.75\n",
       "2436      99.75\n",
       "593       99.95\n",
       "2667      990.3\n",
       "6381     990.45\n",
       "577      990.85\n",
       "4227      990.9\n",
       "553       992.7\n",
       "6059     993.15\n",
       "913      994.55\n",
       "3781      994.8\n",
       "347      995.35\n",
       "5539     996.45\n",
       "770      996.85\n",
       "6308     996.95\n",
       "3797     997.65\n",
       "6341     997.75\n",
       "6261      998.1\n",
       "3702     999.45\n",
       "3392      999.8\n",
       "4349      999.9\n",
       "Name: total_charges, Length: 7032, dtype: object"
      ]
     },
     "execution_count": 7,
     "metadata": {},
     "output_type": "execute_result"
    }
   ],
   "source": [
    "df.total_charges.sort_values()"
   ]
  },
  {
   "cell_type": "markdown",
   "metadata": {},
   "source": [
    "## Split into X's, y's and Train/Tests"
   ]
  },
  {
   "cell_type": "code",
   "execution_count": null,
   "metadata": {},
   "outputs": [],
   "source": [
    "X = df[['household_type_id','internet_service_type_id','gender']]\n",
    "y = df[['churn_encode']]\n",
    "\n",
    "X_train, X_test, y_train, y_test = train_test_split(X, y, test_size=.20, random_state = 123)"
   ]
  },
  {
   "cell_type": "markdown",
   "metadata": {},
   "source": [
    "## Logistic Regression fitting"
   ]
  },
  {
   "cell_type": "code",
   "execution_count": null,
   "metadata": {},
   "outputs": [],
   "source": [
    "logit = LogisticRegression()\n",
    "logit.fit(X_train, y_train)\n",
    "y_pred = logit.predict(X_train)\n",
    "y_pred_proba = logit.predict_proba(X_train)"
   ]
  },
  {
   "cell_type": "code",
   "execution_count": null,
   "metadata": {},
   "outputs": [],
   "source": [
    "print('Columns: \\n:', X_train.columns)\n",
    "print('Coefficient: \\n', logit.coef_)\n",
    "print('Intercept: \\n', logit.intercept_)"
   ]
  },
  {
   "cell_type": "code",
   "execution_count": null,
   "metadata": {},
   "outputs": [],
   "source": [
    "y_pred"
   ]
  },
  {
   "cell_type": "markdown",
   "metadata": {},
   "source": [
    "#### Probability of Stay vs Churn "
   ]
  },
  {
   "cell_type": "code",
   "execution_count": null,
   "metadata": {},
   "outputs": [],
   "source": [
    "y_pred_proba"
   ]
  },
  {
   "cell_type": "markdown",
   "metadata": {},
   "source": [
    "#### Accuracy "
   ]
  },
  {
   "cell_type": "code",
   "execution_count": null,
   "metadata": {},
   "outputs": [],
   "source": [
    "(y_train['churn_encode'] == y_pred).sum() / y_train.shape[0]"
   ]
  },
  {
   "cell_type": "code",
   "execution_count": null,
   "metadata": {},
   "outputs": [],
   "source": []
  }
 ],
 "metadata": {
  "kernelspec": {
   "display_name": "Python 3",
   "language": "python",
   "name": "python3"
  },
  "language_info": {
   "codemirror_mode": {
    "name": "ipython",
    "version": 3
   },
   "file_extension": ".py",
   "mimetype": "text/x-python",
   "name": "python",
   "nbconvert_exporter": "python",
   "pygments_lexer": "ipython3",
   "version": "3.7.1"
  }
 },
 "nbformat": 4,
 "nbformat_minor": 2
}
