{
 "cells": [
  {
   "cell_type": "code",
   "execution_count": 1,
   "metadata": {},
   "outputs": [],
   "source": [
    "import prepare as ppr\n",
    "import acquire as aq "
   ]
  },
  {
   "cell_type": "code",
   "execution_count": 2,
   "metadata": {},
   "outputs": [],
   "source": [
    "import pandas as pd\n",
    "import numpy as np\n",
    "import matplotlib.pyplot as plt\n",
    "\n",
    "from sklearn.linear_model import LogisticRegression\n",
    "from sklearn.metrics import classification_report\n",
    "from sklearn.metrics import confusion_matrix\n",
    "from sklearn.preprocessing import MinMaxScaler\n",
    "from sklearn.model_selection import train_test_split"
   ]
  },
  {
   "cell_type": "code",
   "execution_count": 46,
   "metadata": {},
   "outputs": [],
   "source": [
    "total_df = ppr.prep_telco(aq.get_telco_data())"
   ]
  },
  {
   "cell_type": "code",
   "execution_count": 172,
   "metadata": {},
   "outputs": [
    {
     "data": {
      "text/plain": [
       "Index(['payment_type_id', 'internet_service_type_id', 'contract_type_id',\n",
       "       'customer_id', 'gender', 'senior_citizen', 'partner', 'dependents',\n",
       "       'tenure', 'phone_service', 'multiple_lines', 'online_security',\n",
       "       'online_backup', 'device_protection', 'tech_support', 'streaming_tv',\n",
       "       'streaming_movies', 'paperless_billing', 'monthly_charges',\n",
       "       'total_charges', 'churn', 'contract_type', 'internet_service_type',\n",
       "       'payment_type', 'tenure_yearly', 'churn_encode', 'phone_id',\n",
       "       'movies_encode', 'tv_encode', 'streaming_services',\n",
       "       'online_security_encode', 'online_backup_encode',\n",
       "       'online_security_backup', 'household_type_id', 'gender_encode'],\n",
       "      dtype='object')"
      ]
     },
     "execution_count": 172,
     "metadata": {},
     "output_type": "execute_result"
    }
   ],
   "source": [
    "total_df.columns"
   ]
  },
  {
   "cell_type": "code",
   "execution_count": 254,
   "metadata": {},
   "outputs": [
    {
     "name": "stderr",
     "output_type": "stream",
     "text": [
      "/usr/local/anaconda3/lib/python3.7/site-packages/sklearn/model_selection/_split.py:2179: FutureWarning: From version 0.21, test_size will always complement train_size unless both are specified.\n",
      "  FutureWarning)\n"
     ]
    }
   ],
   "source": [
    "\n",
    "#### ACC = 84% (Tenure Greater Than 12 Months)\n",
    "df = total_df[['monthly_charges','total_charges','tenure', 'churn_encode', 'phone_id', 'streaming_services',\n",
    "       'online_security_backup','household_type_id', 'gender_encode']]\n",
    "        \n",
    "#### ACC = 68% (Tenure Less Than or Equal to 12 Months)\n",
    "df1 = total_df[['monthly_charges','total_charges','tenure', 'churn_encode', 'phone_id', 'streaming_services',\n",
    "       'online_security_backup','household_type_id', 'gender_encode']]\n",
    "\n",
    "\n",
    "df2 = total_df[['monthly_charges','total_charges','tenure', 'churn_encode', 'phone_id', 'streaming_services',\n",
    "       'online_security_backup','household_type_id', 'gender_encode']]\n",
    "\n",
    "\n",
    "df3 = total_df[['monthly_charges','total_charges','tenure', 'churn_encode', 'phone_id', 'streaming_services',\n",
    "       'online_security_backup','household_type_id', 'gender_encode']]\n",
    "\n",
    "\n",
    "df4 = total_df[['monthly_charges','total_charges','tenure', 'churn_encode', 'phone_id', 'streaming_services',\n",
    "       'online_security_backup','household_type_id', 'gender_encode']]\n",
    "\n",
    "\n",
    "df5 = total_df[['monthly_charges','total_charges','tenure', 'churn_encode', 'phone_id', 'streaming_services',\n",
    "       'online_security_backup','household_type_id', 'gender_encode']]\n",
    "\n",
    "\n",
    "df6 = total_df[['monthly_charges','total_charges','tenure', 'churn_encode', 'phone_id', 'streaming_services',\n",
    "       'online_security_backup','household_type_id', 'gender_encode']]\n",
    "\n",
    "### Filters\n",
    "df1 = df1[df1['tenure'] <= 13]\n",
    "df1 = df1[df1['household_type_id'] < 3]\n",
    "#df = df[df['contract_type_id'] == 1]\n",
    "#df.drop(columns= 'contract_type_id', inplace = True)\n",
    "train,test = train_test_split(df1, train_size = .7, random_state = 123)\n"
   ]
  },
  {
   "cell_type": "code",
   "execution_count": 255,
   "metadata": {},
   "outputs": [],
   "source": [
    "train, test = ppr.scale_split_data(train,test)\n",
    "train.drop(columns='total_charges', inplace = True)\n",
    "test.drop(columns='total_charges', inplace = True)\n",
    "train.drop(columns='monthly_charges', inplace = True)\n",
    "test.drop(columns='monthly_charges', inplace = True)\n",
    "train.drop(columns = 'monthly_charges_scaled',inplace = True)\n",
    "test.drop(columns = 'monthly_charges_scaled',inplace = True)"
   ]
  },
  {
   "cell_type": "code",
   "execution_count": 256,
   "metadata": {},
   "outputs": [
    {
     "data": {
      "text/plain": [
       "Index(['tenure', 'churn_encode', 'phone_id', 'streaming_services',\n",
       "       'online_security_backup', 'household_type_id', 'gender_encode',\n",
       "       'total_charges_scaled'],\n",
       "      dtype='object')"
      ]
     },
     "execution_count": 256,
     "metadata": {},
     "output_type": "execute_result"
    }
   ],
   "source": [
    "train.columns"
   ]
  },
  {
   "cell_type": "code",
   "execution_count": 257,
   "metadata": {},
   "outputs": [
    {
     "data": {
      "text/plain": [
       "(1379, 8)"
      ]
     },
     "execution_count": 257,
     "metadata": {},
     "output_type": "execute_result"
    }
   ],
   "source": [
    "train.shape"
   ]
  },
  {
   "cell_type": "code",
   "execution_count": 258,
   "metadata": {},
   "outputs": [],
   "source": [
    "logit = LogisticRegression()"
   ]
  },
  {
   "cell_type": "code",
   "execution_count": 259,
   "metadata": {},
   "outputs": [
    {
     "name": "stderr",
     "output_type": "stream",
     "text": [
      "/usr/local/anaconda3/lib/python3.7/site-packages/sklearn/linear_model/logistic.py:433: FutureWarning: Default solver will be changed to 'lbfgs' in 0.22. Specify a solver to silence this warning.\n",
      "  FutureWarning)\n",
      "/usr/local/anaconda3/lib/python3.7/site-packages/sklearn/utils/validation.py:761: DataConversionWarning: A column-vector y was passed when a 1d array was expected. Please change the shape of y to (n_samples, ), for example using ravel().\n",
      "  y = column_or_1d(y, warn=True)\n"
     ]
    },
    {
     "data": {
      "text/plain": [
       "LogisticRegression(C=1.0, class_weight=None, dual=False, fit_intercept=True,\n",
       "          intercept_scaling=1, max_iter=100, multi_class='warn',\n",
       "          n_jobs=None, penalty='l2', random_state=None, solver='warn',\n",
       "          tol=0.0001, verbose=0, warm_start=False)"
      ]
     },
     "execution_count": 259,
     "metadata": {},
     "output_type": "execute_result"
    }
   ],
   "source": [
    "logit.fit(train.drop(columns = 'churn_encode'),train[['churn_encode']])"
   ]
  },
  {
   "cell_type": "code",
   "execution_count": 260,
   "metadata": {},
   "outputs": [],
   "source": [
    "y_pred = logit.predict(test.drop(columns = 'churn_encode'))"
   ]
  },
  {
   "cell_type": "code",
   "execution_count": 261,
   "metadata": {},
   "outputs": [
    {
     "data": {
      "text/plain": [
       "0.6734348561759729"
      ]
     },
     "execution_count": 261,
     "metadata": {},
     "output_type": "execute_result"
    }
   ],
   "source": [
    "(test['churn_encode'] == y_pred).sum() / test.shape[0]"
   ]
  },
  {
   "cell_type": "code",
   "execution_count": 262,
   "metadata": {},
   "outputs": [
    {
     "data": {
      "text/plain": [
       "Index(['tenure', 'churn_encode', 'phone_id', 'streaming_services',\n",
       "       'online_security_backup', 'household_type_id', 'gender_encode',\n",
       "       'total_charges_scaled'],\n",
       "      dtype='object')"
      ]
     },
     "execution_count": 262,
     "metadata": {},
     "output_type": "execute_result"
    }
   ],
   "source": [
    "test.columns"
   ]
  },
  {
   "cell_type": "code",
   "execution_count": 263,
   "metadata": {},
   "outputs": [
    {
     "data": {
      "text/plain": [
       "array([[-2.90239968e-01,  2.66438773e-01,  5.07087011e-01,\n",
       "        -2.39635213e-01,  1.15538478e-01,  1.95166132e-03,\n",
       "         3.70383973e+00]])"
      ]
     },
     "execution_count": 263,
     "metadata": {},
     "output_type": "execute_result"
    }
   ],
   "source": [
    "logit.coef_"
   ]
  },
  {
   "cell_type": "code",
   "execution_count": 264,
   "metadata": {},
   "outputs": [
    {
     "data": {
      "text/plain": [
       "Index(['tenure', 'churn_encode', 'phone_id', 'streaming_services',\n",
       "       'online_security_backup', 'household_type_id', 'gender_encode',\n",
       "       'total_charges_scaled'],\n",
       "      dtype='object')"
      ]
     },
     "execution_count": 264,
     "metadata": {},
     "output_type": "execute_result"
    }
   ],
   "source": [
    "train.columns"
   ]
  },
  {
   "cell_type": "code",
   "execution_count": 265,
   "metadata": {},
   "outputs": [],
   "source": [
    "actual_y = test['churn_encode']\n",
    "c_matrix = confusion_matrix(actual_y,y_pred)"
   ]
  },
  {
   "cell_type": "code",
   "execution_count": 266,
   "metadata": {},
   "outputs": [
    {
     "data": {
      "text/plain": [
       "array([[175, 118],\n",
       "       [ 75, 223]])"
      ]
     },
     "execution_count": 266,
     "metadata": {},
     "output_type": "execute_result"
    }
   ],
   "source": [
    "c_matrix"
   ]
  },
  {
   "cell_type": "code",
   "execution_count": 217,
   "metadata": {},
   "outputs": [
    {
     "name": "stdout",
     "output_type": "stream",
     "text": [
      "              precision    recall  f1-score   support\n",
      "\n",
      "           0       0.73      0.63      0.68       344\n",
      "           1       0.64      0.74      0.69       309\n",
      "\n",
      "   micro avg       0.68      0.68      0.68       653\n",
      "   macro avg       0.69      0.68      0.68       653\n",
      "weighted avg       0.69      0.68      0.68       653\n",
      "\n"
     ]
    }
   ],
   "source": [
    "print(classification_report(actual_y,y_pred))"
   ]
  },
  {
   "cell_type": "code",
   "execution_count": null,
   "metadata": {},
   "outputs": [],
   "source": []
  }
 ],
 "metadata": {
  "kernelspec": {
   "display_name": "Python 3",
   "language": "python",
   "name": "python3"
  },
  "language_info": {
   "codemirror_mode": {
    "name": "ipython",
    "version": 3
   },
   "file_extension": ".py",
   "mimetype": "text/x-python",
   "name": "python",
   "nbconvert_exporter": "python",
   "pygments_lexer": "ipython3",
   "version": "3.7.1"
  }
 },
 "nbformat": 4,
 "nbformat_minor": 2
}
