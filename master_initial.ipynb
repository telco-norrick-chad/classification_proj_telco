{
 "cells": [
  {
   "cell_type": "code",
   "execution_count": 16,
   "metadata": {},
   "outputs": [],
   "source": [
    "from sklearn.linear_model import LogisticRegression\n",
    "from sklearn.metrics import classification_report\n",
    "from sklearn.metrics import confusion_matrix\n",
    "from sklearn.preprocessing import MinMaxScaler\n",
    "from sklearn.model_selection import train_test_split"
   ]
  },
  {
   "cell_type": "code",
   "execution_count": 17,
   "metadata": {},
   "outputs": [],
   "source": [
    "import acquire as acq\n",
    "import prepare as prep"
   ]
  },
  {
   "cell_type": "code",
   "execution_count": 18,
   "metadata": {},
   "outputs": [],
   "source": [
    "df = acq.get_telco_data()"
   ]
  },
  {
   "cell_type": "code",
   "execution_count": 19,
   "metadata": {},
   "outputs": [],
   "source": [
    "df = prep.prep_telco(df)"
   ]
  },
  {
   "cell_type": "code",
   "execution_count": 20,
   "metadata": {},
   "outputs": [
    {
     "name": "stdout",
     "output_type": "stream",
     "text": [
      "HEAD:\n",
      "   payment_type_id  internet_service_type_id  contract_type_id customer_id  \\\n",
      "0                2                         1                 1  0003-MKNFE   \n",
      "1                4                         1                 1  0013-MHZWF   \n",
      "2                1                         1                 1  0015-UOCOJ   \n",
      "3                1                         1                 1  0023-HGHWL   \n",
      "4                3                         1                 1  0032-PGELS   \n",
      "\n",
      "   gender  senior_citizen partner dependents  tenure phone_service  \\\n",
      "0    Male               0      No         No       9           Yes   \n",
      "1  Female               0      No        Yes       9           Yes   \n",
      "2  Female               1      No         No       7           Yes   \n",
      "3    Male               1      No         No       1            No   \n",
      "4  Female               0     Yes        Yes       1            No   \n",
      "\n",
      "      ...      streaming_tv streaming_movies paperless_billing  \\\n",
      "0     ...                No              Yes                No   \n",
      "1     ...               Yes              Yes               Yes   \n",
      "2     ...                No               No               Yes   \n",
      "3     ...                No               No               Yes   \n",
      "4     ...                No               No                No   \n",
      "\n",
      "  monthly_charges total_charges churn   contract_type internet_service_type  \\\n",
      "0            59.9         542.4    No  Month-to-month                   DSL   \n",
      "1            69.4        571.45    No  Month-to-month                   DSL   \n",
      "2            48.2        340.35    No  Month-to-month                   DSL   \n",
      "3            25.1          25.1   Yes  Month-to-month                   DSL   \n",
      "4            30.5          30.5   Yes  Month-to-month                   DSL   \n",
      "\n",
      "                payment_type churn_encode  \n",
      "0               Mailed check            0  \n",
      "1    Credit card (automatic)            0  \n",
      "2           Electronic check            0  \n",
      "3           Electronic check            1  \n",
      "4  Bank transfer (automatic)            1  \n",
      "\n",
      "[5 rows x 25 columns]\n",
      "\n",
      " \n",
      " TAIL:\n",
      "      payment_type_id  internet_service_type_id  contract_type_id customer_id  \\\n",
      "7038                4                         3                 3  9950-MTGYX   \n",
      "7039                2                         3                 3  9953-ZMKSM   \n",
      "7040                4                         3                 3  9964-WBQDJ   \n",
      "7041                3                         3                 3  9972-EWRJS   \n",
      "7042                4                         3                 3  9975-GPKZU   \n",
      "\n",
      "      gender  senior_citizen partner dependents  tenure phone_service  \\\n",
      "7038    Male               0     Yes        Yes      28           Yes   \n",
      "7039    Male               0      No         No      63           Yes   \n",
      "7040  Female               0     Yes         No      71           Yes   \n",
      "7041  Female               0     Yes        Yes      67           Yes   \n",
      "7042    Male               0     Yes        Yes      46           Yes   \n",
      "\n",
      "         ...              streaming_tv     streaming_movies paperless_billing  \\\n",
      "7038     ...       No internet service  No internet service               Yes   \n",
      "7039     ...       No internet service  No internet service                No   \n",
      "7040     ...       No internet service  No internet service               Yes   \n",
      "7041     ...       No internet service  No internet service               Yes   \n",
      "7042     ...       No internet service  No internet service                No   \n",
      "\n",
      "     monthly_charges total_charges churn contract_type internet_service_type  \\\n",
      "7038           20.30        487.95    No      Two year                  None   \n",
      "7039           25.25        1559.3    No      Two year                  None   \n",
      "7040           24.40        1725.4    No      Two year                  None   \n",
      "7041           19.25        1372.9    No      Two year                  None   \n",
      "7042           19.75         856.5    No      Two year                  None   \n",
      "\n",
      "                   payment_type churn_encode  \n",
      "7038    Credit card (automatic)            0  \n",
      "7039               Mailed check            0  \n",
      "7040    Credit card (automatic)            0  \n",
      "7041  Bank transfer (automatic)            0  \n",
      "7042    Credit card (automatic)            0  \n",
      "\n",
      "[5 rows x 25 columns]\n",
      "\n",
      " \n",
      " SHAPE:\n",
      "(7043, 25)\n",
      "\n",
      " \n",
      " DESCRIBE:\n",
      "       payment_type_id  internet_service_type_id  contract_type_id  \\\n",
      "count      7043.000000               7043.000000       7043.000000   \n",
      "mean          2.315633                  1.872923          1.690473   \n",
      "std           1.148907                  0.737796          0.833755   \n",
      "min           1.000000                  1.000000          1.000000   \n",
      "25%           1.000000                  1.000000          1.000000   \n",
      "50%           2.000000                  2.000000          1.000000   \n",
      "75%           3.000000                  2.000000          2.000000   \n",
      "max           4.000000                  3.000000          3.000000   \n",
      "\n",
      "       senior_citizen       tenure  monthly_charges  churn_encode  \n",
      "count     7043.000000  7043.000000      7043.000000   7043.000000  \n",
      "mean         0.162147    32.371149        64.761692      0.265370  \n",
      "std          0.368612    24.559481        30.090047      0.441561  \n",
      "min          0.000000     0.000000        18.250000      0.000000  \n",
      "25%          0.000000     9.000000        35.500000      0.000000  \n",
      "50%          0.000000    29.000000        70.350000      0.000000  \n",
      "75%          0.000000    55.000000        89.850000      1.000000  \n",
      "max          1.000000    72.000000       118.750000      1.000000  \n",
      "\n",
      " \n",
      " INFO\n",
      "<class 'pandas.core.frame.DataFrame'>\n",
      "RangeIndex: 7043 entries, 0 to 7042\n",
      "Data columns (total 25 columns):\n",
      "payment_type_id             7043 non-null int64\n",
      "internet_service_type_id    7043 non-null int64\n",
      "contract_type_id            7043 non-null int64\n",
      "customer_id                 7043 non-null object\n",
      "gender                      7043 non-null object\n",
      "senior_citizen              7043 non-null int64\n",
      "partner                     7043 non-null object\n",
      "dependents                  7043 non-null object\n",
      "tenure                      7043 non-null int64\n",
      "phone_service               7043 non-null object\n",
      "multiple_lines              7043 non-null object\n",
      "online_security             7043 non-null object\n",
      "online_backup               7043 non-null object\n",
      "device_protection           7043 non-null object\n",
      "tech_support                7043 non-null object\n",
      "streaming_tv                7043 non-null object\n",
      "streaming_movies            7043 non-null object\n",
      "paperless_billing           7043 non-null object\n",
      "monthly_charges             7043 non-null float64\n",
      "total_charges               7043 non-null object\n",
      "churn                       7043 non-null object\n",
      "contract_type               7043 non-null object\n",
      "internet_service_type       7043 non-null object\n",
      "payment_type                7043 non-null object\n",
      "churn_encode                7043 non-null int64\n",
      "dtypes: float64(1), int64(6), object(18)\n",
      "memory usage: 1.3+ MB\n",
      "None\n"
     ]
    }
   ],
   "source": [
    "acq.peekatdata(df)"
   ]
  },
  {
   "cell_type": "code",
   "execution_count": 21,
   "metadata": {},
   "outputs": [],
   "source": [
    "df = df[['churn_encode', 'monthly_charges']]"
   ]
  },
  {
   "cell_type": "code",
   "execution_count": 22,
   "metadata": {},
   "outputs": [
    {
     "data": {
      "text/html": [
       "<div>\n",
       "<style scoped>\n",
       "    .dataframe tbody tr th:only-of-type {\n",
       "        vertical-align: middle;\n",
       "    }\n",
       "\n",
       "    .dataframe tbody tr th {\n",
       "        vertical-align: top;\n",
       "    }\n",
       "\n",
       "    .dataframe thead th {\n",
       "        text-align: right;\n",
       "    }\n",
       "</style>\n",
       "<table border=\"1\" class=\"dataframe\">\n",
       "  <thead>\n",
       "    <tr style=\"text-align: right;\">\n",
       "      <th></th>\n",
       "      <th>churn_encode</th>\n",
       "      <th>monthly_charges</th>\n",
       "    </tr>\n",
       "  </thead>\n",
       "  <tbody>\n",
       "    <tr>\n",
       "      <th>0</th>\n",
       "      <td>0</td>\n",
       "      <td>59.9</td>\n",
       "    </tr>\n",
       "    <tr>\n",
       "      <th>1</th>\n",
       "      <td>0</td>\n",
       "      <td>69.4</td>\n",
       "    </tr>\n",
       "    <tr>\n",
       "      <th>2</th>\n",
       "      <td>0</td>\n",
       "      <td>48.2</td>\n",
       "    </tr>\n",
       "    <tr>\n",
       "      <th>3</th>\n",
       "      <td>1</td>\n",
       "      <td>25.1</td>\n",
       "    </tr>\n",
       "    <tr>\n",
       "      <th>4</th>\n",
       "      <td>1</td>\n",
       "      <td>30.5</td>\n",
       "    </tr>\n",
       "  </tbody>\n",
       "</table>\n",
       "</div>"
      ],
      "text/plain": [
       "   churn_encode  monthly_charges\n",
       "0             0             59.9\n",
       "1             0             69.4\n",
       "2             0             48.2\n",
       "3             1             25.1\n",
       "4             1             30.5"
      ]
     },
     "execution_count": 22,
     "metadata": {},
     "output_type": "execute_result"
    }
   ],
   "source": [
    "df.head()"
   ]
  },
  {
   "cell_type": "markdown",
   "metadata": {},
   "source": [
    "### don't forget to standardized here, from the prep.py"
   ]
  },
  {
   "cell_type": "code",
   "execution_count": 23,
   "metadata": {},
   "outputs": [],
   "source": [
    "X = df.drop('churn_encode',axis=1)\n",
    "y = df[['churn_encode']]\n",
    "\n",
    "X_train, X_test, y_train, y_test = train_test_split(X, y, test_size=.20, random_state = 123)"
   ]
  },
  {
   "cell_type": "code",
   "execution_count": 30,
   "metadata": {},
   "outputs": [
    {
     "name": "stderr",
     "output_type": "stream",
     "text": [
      "/usr/local/anaconda3/lib/python3.7/site-packages/sklearn/linear_model/logistic.py:433: FutureWarning: Default solver will be changed to 'lbfgs' in 0.22. Specify a solver to silence this warning.\n",
      "  FutureWarning)\n",
      "/usr/local/anaconda3/lib/python3.7/site-packages/sklearn/utils/validation.py:761: DataConversionWarning: A column-vector y was passed when a 1d array was expected. Please change the shape of y to (n_samples, ), for example using ravel().\n",
      "  y = column_or_1d(y, warn=True)\n"
     ]
    },
    {
     "data": {
      "text/plain": [
       "LogisticRegression(C=1.0, class_weight=None, dual=False, fit_intercept=True,\n",
       "          intercept_scaling=1, max_iter=100, multi_class='warn',\n",
       "          n_jobs=None, penalty='l2', random_state=None, solver='warn',\n",
       "          tol=0.0001, verbose=0, warm_start=False)"
      ]
     },
     "execution_count": 30,
     "metadata": {},
     "output_type": "execute_result"
    }
   ],
   "source": [
    "logit = LogisticRegression()\n",
    "\n",
    "logit.fit(X_train, y_train)"
   ]
  },
  {
   "cell_type": "code",
   "execution_count": 31,
   "metadata": {},
   "outputs": [
    {
     "name": "stdout",
     "output_type": "stream",
     "text": [
      "Columns: \n",
      ": Index(['monthly_charges'], dtype='object')\n",
      "Coefficient: \n",
      " [[0.01467951]]\n",
      "Intercept: \n",
      " [-2.02339881]\n"
     ]
    }
   ],
   "source": [
    "print('Columns: \\n:', X_train.columns)\n",
    "print('Coefficient: \\n', logit.coef_)\n",
    "print('Intercept: \\n', logit.intercept_)"
   ]
  },
  {
   "cell_type": "code",
   "execution_count": 35,
   "metadata": {},
   "outputs": [
    {
     "data": {
      "text/plain": [
       "array([0, 0, 0, ..., 0, 0, 0])"
      ]
     },
     "execution_count": 35,
     "metadata": {},
     "output_type": "execute_result"
    }
   ],
   "source": [
    "y_pred = logit.predict(X_train)\n",
    "y_pred"
   ]
  },
  {
   "cell_type": "code",
   "execution_count": 36,
   "metadata": {},
   "outputs": [
    {
     "data": {
      "text/plain": [
       "array([[0.84376385, 0.15623615],\n",
       "       [0.60252385, 0.39747615],\n",
       "       [0.85004403, 0.14995597],\n",
       "       ...,\n",
       "       [0.76350401, 0.23649599],\n",
       "       [0.70297718, 0.29702282],\n",
       "       [0.66689371, 0.33310629]])"
      ]
     },
     "execution_count": 36,
     "metadata": {},
     "output_type": "execute_result"
    }
   ],
   "source": [
    "y_pred_proba = logit.predict_proba(X_train)\n",
    "y_pred_proba"
   ]
  },
  {
   "cell_type": "code",
   "execution_count": 45,
   "metadata": {},
   "outputs": [
    {
     "data": {
      "text/plain": [
       "0.7364217252396166"
      ]
     },
     "execution_count": 45,
     "metadata": {},
     "output_type": "execute_result"
    }
   ],
   "source": [
    "(y_train['churn_encode'] == y_pred).sum() / y_train.shape[0]"
   ]
  },
  {
   "cell_type": "code",
   "execution_count": null,
   "metadata": {},
   "outputs": [],
   "source": []
  },
  {
   "cell_type": "code",
   "execution_count": null,
   "metadata": {},
   "outputs": [],
   "source": []
  }
 ],
 "metadata": {
  "kernelspec": {
   "display_name": "Python 3",
   "language": "python",
   "name": "python3"
  },
  "language_info": {
   "codemirror_mode": {
    "name": "ipython",
    "version": 3
   },
   "file_extension": ".py",
   "mimetype": "text/x-python",
   "name": "python",
   "nbconvert_exporter": "python",
   "pygments_lexer": "ipython3",
   "version": "3.7.1"
  }
 },
 "nbformat": 4,
 "nbformat_minor": 2
}
